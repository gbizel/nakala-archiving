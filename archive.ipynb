{
 "cells": [
  {
   "cell_type": "markdown",
   "metadata": {},
   "source": [
    "# Archive: Link metadata to photos"
   ]
  },
  {
   "cell_type": "code",
   "execution_count": 1,
   "metadata": {},
   "outputs": [
    {
     "name": "stdout",
     "output_type": "stream",
     "text": [
      "Requirement already satisfied: pandas==1.1.4 in /opt/conda/lib/python3.8/site-packages (from -r requirements.txt (line 1)) (1.1.4)\n",
      "Requirement already satisfied: numpy==1.19.4 in /opt/conda/lib/python3.8/site-packages (from -r requirements.txt (line 2)) (1.19.4)\n",
      "Requirement already satisfied: tqdm==4.54.0 in /opt/conda/lib/python3.8/site-packages (from -r requirements.txt (line 3)) (4.54.0)\n",
      "Requirement already satisfied: python-dateutil>=2.7.3 in /opt/conda/lib/python3.8/site-packages (from pandas==1.1.4->-r requirements.txt (line 1)) (2.8.1)\n",
      "Requirement already satisfied: pytz>=2017.2 in /opt/conda/lib/python3.8/site-packages (from pandas==1.1.4->-r requirements.txt (line 1)) (2020.4)\n",
      "Requirement already satisfied: six>=1.5 in /opt/conda/lib/python3.8/site-packages (from python-dateutil>=2.7.3->pandas==1.1.4->-r requirements.txt (line 1)) (1.15.0)\n"
     ]
    }
   ],
   "source": [
    "## install required packages\n",
    "\n",
    "# create requirements.txt\n",
    "! echo \"pandas==1.1.4\" > requirements.txt\n",
    "! echo \"numpy==1.19.4\" >> requirements.txt\n",
    "! echo \"tqdm==4.54.0\" >> requirements.txt\n",
    "#! echo \"xlrd==1.2.0\" >> requirements.txt\n",
    "\n",
    "# install requirements\n",
    "! pip install -r requirements.txt"
   ]
  },
  {
   "cell_type": "code",
   "execution_count": 85,
   "metadata": {},
   "outputs": [
    {
     "name": "stderr",
     "output_type": "stream",
     "text": [
      "/opt/conda/lib/python3.8/site-packages/tqdm/std.py:699: FutureWarning: The Panel class is removed from pandas. Accessing it from the top-level namespace will also be removed in the next version\n",
      "  from pandas import Panel\n"
     ]
    }
   ],
   "source": [
    "## import required packages\n",
    "\n",
    "import os, ast\n",
    "import pandas as pd\n",
    "import numpy as np\n",
    "from time import time\n",
    "from tqdm import tqdm\n",
    "from datetime import datetime\n",
    "\n",
    "tqdm.pandas()"
   ]
  },
  {
   "cell_type": "code",
   "execution_count": 3,
   "metadata": {},
   "outputs": [],
   "source": [
    "# Start timer\n",
    "t0 = time()"
   ]
  },
  {
   "cell_type": "markdown",
   "metadata": {},
   "source": [
    "## 0. Variables to be modified"
   ]
  },
  {
   "cell_type": "code",
   "execution_count": 4,
   "metadata": {},
   "outputs": [],
   "source": [
    "# path to photos root\n",
    "path_photos = 'base photos/photos terrains'\n",
    "\n",
    "# path to cartes root\n",
    "path_cartes = 'base photos/cartes'"
   ]
  },
  {
   "cell_type": "markdown",
   "metadata": {},
   "source": [
    "## 1. Creation of a dictionnary storing each folder code with the matching metadata"
   ]
  },
  {
   "cell_type": "code",
   "execution_count": 5,
   "metadata": {},
   "outputs": [],
   "source": [
    "def read_all_sheets(path):\n",
    "    \"\"\"\n",
    "    creates a dataframe with all sheets concatenated from an excel file\n",
    "    \"\"\"\n",
    "    xl = pd.ExcelFile(path)\n",
    "    n_sheets = len(xl.sheet_names)\n",
    "    for i in range(0, n_sheets):\n",
    "        if i == 0:\n",
    "            df = xl.parse(i)\n",
    "        else:\n",
    "            df = df.append(xl.parse(i))\n",
    "    return df"
   ]
  },
  {
   "cell_type": "code",
   "execution_count": 6,
   "metadata": {},
   "outputs": [],
   "source": [
    "def gather_cartes_info(path):\n",
    "    \"\"\"\n",
    "    creates a list of dataframes,\n",
    "    each dataframe containing the information of each sites for a specific type\n",
    "    \n",
    "    ignores all files that do not work\n",
    "    \"\"\"\n",
    "\n",
    "    cartes_info = []\n",
    "    files = os.listdir(path)\n",
    "    \n",
    "    for file in files:\n",
    "        try:\n",
    "            df_file = read_all_sheets(path + '/' + file)\n",
    "            cartes_info += [df_file]\n",
    "        except Exception as e:\n",
    "            print('\\nFile discarded as a carte :', file)\n",
    "            print('Error :', e)\n",
    "            \n",
    "    return(cartes_info)"
   ]
  },
  {
   "cell_type": "code",
   "execution_count": 7,
   "metadata": {},
   "outputs": [],
   "source": [
    "def remove_digits(string):\n",
    "    \"\"\"\n",
    "    removes all digits from a string\n",
    "    \"\"\"\n",
    "    return ''.join([i for i in string if not i.isdigit()])"
   ]
  },
  {
   "cell_type": "code",
   "execution_count": 8,
   "metadata": {},
   "outputs": [],
   "source": [
    "def get_code_dictionary(list_df_files):\n",
    "    \"\"\"\n",
    "    returns a dictionary, the keys are the code types, the values are the associated dataframes\n",
    "    \"\"\"\n",
    "        \n",
    "    code_dictionary = {}\n",
    "\n",
    "    for df in list_df_files:\n",
    "\n",
    "        first_code = df['Code Folder'].iloc[0]\n",
    "        code_root = remove_digits(first_code)\n",
    "\n",
    "        code_dictionary[code_root] = df\n",
    "\n",
    "    return code_dictionary"
   ]
  },
  {
   "cell_type": "code",
   "execution_count": 9,
   "metadata": {},
   "outputs": [
    {
     "name": "stdout",
     "output_type": "stream",
     "text": [
      "\n",
      "File discarded as a carte : .DS_Store\n",
      "Error : Unsupported format, or corrupt file: Expected BOF record; found b'\\x00\\x00\\x00\\x01Bud1'\n",
      "\n",
      "File discarded as a carte : zz other\n",
      "Error : [Errno 21] Is a directory: 'base photos/cartes/zz other'\n",
      "\n",
      "File discarded as a carte : ~$p Rock art 11-2020 update 10-2021.xlsx\n",
      "Error : Unsupported format, or corrupt file: Expected BOF record; found b'\\x08quen ti'\n",
      "\n",
      "File discarded as a carte : ~$rc Regular chortens - 10oct21.xlsx\n",
      "Error : Unsupported format, or corrupt file: Expected BOF record; found b'\\x08quen ti'\n"
     ]
    }
   ],
   "source": [
    "cartes_info = gather_cartes_info(path_cartes)"
   ]
  },
  {
   "cell_type": "code",
   "execution_count": 10,
   "metadata": {},
   "outputs": [],
   "source": [
    "code_dictionary = get_code_dictionary(cartes_info)"
   ]
  },
  {
   "cell_type": "code",
   "execution_count": 11,
   "metadata": {},
   "outputs": [
    {
     "name": "stdout",
     "output_type": "stream",
     "text": [
      "dict_keys(['bc', 'ca', 'f', 'os', 'p', 'pc', 'rc', 'ss', 't'])\n"
     ]
    }
   ],
   "source": [
    "print(code_dictionary.keys())"
   ]
  },
  {
   "cell_type": "markdown",
   "metadata": {},
   "source": [
    "## 2. Creation of a dataframe containing all photo names and their code folders"
   ]
  },
  {
   "cell_type": "code",
   "execution_count": 12,
   "metadata": {},
   "outputs": [],
   "source": [
    "def get_list_of_files(dir_name):\n",
    "    # create a list of file and sub directories \n",
    "    # names in the given directory \n",
    "    list_of_files = os.listdir(dir_name)\n",
    "    all_files = list()\n",
    "    # Iterate over all the entries\n",
    "    for entry in list_of_files:\n",
    "        # Create full path\n",
    "        full_path = os.path.join(dir_name, entry)\n",
    "        # If entry is a directory then get the list of files in this directory \n",
    "        if os.path.isdir(full_path):\n",
    "            all_files = all_files + get_list_of_files(full_path)\n",
    "        else:\n",
    "            all_files.append(full_path)\n",
    "                \n",
    "    return all_files"
   ]
  },
  {
   "cell_type": "code",
   "execution_count": 13,
   "metadata": {},
   "outputs": [],
   "source": [
    "def match_code_photos(photos):\n",
    "    \n",
    "    # Create empty dataframe\n",
    "    photos_info = pd.DataFrame(columns = ['photo_name','code_folder', 'path_folder'])\n",
    "    \n",
    "    \n",
    "    # add photo infos to dataframe\n",
    "    for i in tqdm(range(0,len(photos))):\n",
    "\n",
    "        # Exclude files with '#' in the path\n",
    "        if photos[i].find('#') == -1 :\n",
    "\n",
    "            split_path = photos[i].split('/')\n",
    "\n",
    "            photo = split_path[-1]\n",
    "\n",
    "            # Exclude non '.jpg' or '.JPG' files\n",
    "            if (photo.split('.')[-1] == 'JPG') | (photo.split('.')[-1] == 'jpg'):\n",
    "\n",
    "                folder_name = split_path[-2]\n",
    "                code_folder = folder_name.split(' ')[-1]\n",
    "                path_folder = '/'.join(photos[i].split('/')[:-1])\n",
    "\n",
    "                # add photo infos to dataframe\n",
    "                s = pd.Series([photo,code_folder, path_folder],index=['photo_name','code_folder', 'path_folder'])\n",
    "                photos_info = photos_info.append(s,ignore_index=True)\n",
    "\n",
    "    print(\"{} photos were found, {} were discarded because a '#' was found in the path\".format(i,i-photos_info.shape[0]))\n",
    "    print(\"dataframe contains {} photos before duplicate management\".format(photos_info.shape[0]))\n",
    "\n",
    "    # Aggregate photos in multiple folder (add '+' in code_folder)\n",
    "    photos_info = photos_info.groupby('photo_name').agg(\n",
    "                    {'code_folder':(lambda x: '+'.join(x)),\n",
    "                     'path_folder':(lambda x: list(x))}).reset_index()\n",
    "\n",
    "    print('dataframe contains {} photos after duplicate management'.format(photos_info.shape[0]))\n",
    "    \n",
    "    return photos_info"
   ]
  },
  {
   "cell_type": "code",
   "execution_count": 14,
   "metadata": {},
   "outputs": [],
   "source": [
    "photos = get_list_of_files(path_photos)"
   ]
  },
  {
   "cell_type": "code",
   "execution_count": 15,
   "metadata": {},
   "outputs": [
    {
     "name": "stderr",
     "output_type": "stream",
     "text": [
      "100%|██████████| 395/395 [00:00<00:00, 456.30it/s]"
     ]
    },
    {
     "name": "stdout",
     "output_type": "stream",
     "text": [
      "394 photos were found, 49 were discarded because a '#' was found in the path\n",
      "dataframe contains 345 photos before duplicate management\n",
      "dataframe contains 342 photos after duplicate management\n"
     ]
    },
    {
     "name": "stderr",
     "output_type": "stream",
     "text": [
      "\n"
     ]
    }
   ],
   "source": [
    "photos_info = match_code_photos(photos)"
   ]
  },
  {
   "cell_type": "markdown",
   "metadata": {},
   "source": [
    "## 3. Match photos & site information"
   ]
  },
  {
   "cell_type": "code",
   "execution_count": 16,
   "metadata": {},
   "outputs": [],
   "source": [
    "def add_metadata(photos_info, code_dictionary):\n",
    "    photos_info['metadata'] = [[] for _ in range(len(photos_info))]\n",
    "\n",
    "\n",
    "    for i in tqdm(range(0,len(photos_info))):\n",
    "        code_folder = photos_info.iloc[i].code_folder\n",
    "\n",
    "        code_list = code_folder.split('+')\n",
    "\n",
    "        for code in code_list:    \n",
    "            code_type = remove_digits(code)\n",
    "            try :\n",
    "                df_code = code_dictionary[code_type]\n",
    "                row_code = df_code[df_code['Code Folder'] == code]\n",
    "                metadata = row_code[['Code Display',\n",
    "                                     'Name',\n",
    "                                     'Type',\n",
    "                                     'Latitude',\n",
    "                                     'Longitude',\n",
    "                                     'Location',\n",
    "                                     'Region']].values.tolist()[0]\n",
    "                photos_info.iloc[i,3] += [metadata]\n",
    "\n",
    "            except Exception as z:\n",
    "                print('metadata not added for line ',i,'because error with: ', z)\n",
    "                \n",
    "    return photos_info"
   ]
  },
  {
   "cell_type": "code",
   "execution_count": 17,
   "metadata": {},
   "outputs": [],
   "source": [
    "def sentence(metadata):\n",
    "    \n",
    "    n_codes = len(metadata)\n",
    "    \n",
    "    if n_codes == 0:\n",
    "        return \"\"\n",
    "    \n",
    "    else:\n",
    "    \n",
    "        sites = \"\"\n",
    "\n",
    "        for i, metadata_i in enumerate(metadata):\n",
    "            \n",
    "            code, name, type_code, latitude, longitude, location, region = metadata_i\n",
    "            \n",
    "            site_i = f\"{name} (code: {code}, type: {type_code}, coordinates: {longitude}°N {latitude}°E)\"\n",
    "            \n",
    "            if i != n_codes - 1:\n",
    "                site_i += ', '\n",
    "            else:\n",
    "                site_i += '. '\n",
    "            \n",
    "            sites += site_i\n",
    "\n",
    "        if n_codes == 1:\n",
    "            intro = \"This is a picture of a heritage site in Ladakh. \"\n",
    "            intro_p2 = \"The site is: \"\n",
    "\n",
    "        if n_codes > 1:\n",
    "            intro = \"This is a picture of \" + str(n_codes) + \" heritage sites in Ladakh. \"\n",
    "            intro_p2 = \"The sites are: \"\n",
    "        \n",
    "        location_sentence = f\"Location: {location} ({region}). \"\n",
    "        \n",
    "        sentence = intro + location_sentence + intro_p2 + sites + \"More information: ladakharchaeology.com\"\n",
    "        \n",
    "        return sentence"
   ]
  },
  {
   "cell_type": "code",
   "execution_count": 18,
   "metadata": {},
   "outputs": [],
   "source": [
    "def add_sentences(photos_info):\n",
    "    photos_info['sentence'] = photos_info.metadata.progress_apply(lambda x: sentence(x))\n",
    "    return photos_info"
   ]
  },
  {
   "cell_type": "code",
   "execution_count": 19,
   "metadata": {},
   "outputs": [
    {
     "name": "stderr",
     "output_type": "stream",
     "text": [
      "100%|██████████| 342/342 [00:00<00:00, 471.47it/s]\n"
     ]
    }
   ],
   "source": [
    "photos_info = add_metadata(photos_info, code_dictionary)"
   ]
  },
  {
   "cell_type": "code",
   "execution_count": 20,
   "metadata": {},
   "outputs": [
    {
     "name": "stderr",
     "output_type": "stream",
     "text": [
      "100%|██████████| 342/342 [00:00<00:00, 4960.38it/s]\n"
     ]
    }
   ],
   "source": [
    "photos_info = add_sentences(photos_info)"
   ]
  },
  {
   "cell_type": "code",
   "execution_count": 21,
   "metadata": {},
   "outputs": [
    {
     "name": "stdout",
     "output_type": "stream",
     "text": [
      "3.2136476039886475\n"
     ]
    }
   ],
   "source": [
    "# End timer\n",
    "t1 = time() - t0\n",
    "print(t1)"
   ]
  },
  {
   "cell_type": "code",
   "execution_count": 22,
   "metadata": {},
   "outputs": [],
   "source": [
    "## Save photos_info into a .csv file\n",
    "#photos_info.to_csv('photos_info.csv')"
   ]
  },
  {
   "cell_type": "markdown",
   "metadata": {},
   "source": [
    "## 4. Reshape file"
   ]
  },
  {
   "cell_type": "code",
   "execution_count": 23,
   "metadata": {},
   "outputs": [],
   "source": [
    "dict_authors = {'QD': \"Devers,Quentin,0000-0001-8469-0165\"}"
   ]
  },
  {
   "cell_type": "code",
   "execution_count": 24,
   "metadata": {},
   "outputs": [
    {
     "data": {
      "text/html": [
       "<div>\n",
       "<style scoped>\n",
       "    .dataframe tbody tr th:only-of-type {\n",
       "        vertical-align: middle;\n",
       "    }\n",
       "\n",
       "    .dataframe tbody tr th {\n",
       "        vertical-align: top;\n",
       "    }\n",
       "\n",
       "    .dataframe thead th {\n",
       "        text-align: right;\n",
       "    }\n",
       "</style>\n",
       "<table border=\"1\" class=\"dataframe\">\n",
       "  <thead>\n",
       "    <tr style=\"text-align: right;\">\n",
       "      <th></th>\n",
       "      <th>photo_name</th>\n",
       "      <th>code_folder</th>\n",
       "      <th>path_folder</th>\n",
       "      <th>metadata</th>\n",
       "      <th>sentence</th>\n",
       "    </tr>\n",
       "  </thead>\n",
       "  <tbody>\n",
       "    <tr>\n",
       "      <th>0</th>\n",
       "      <td>QD-2009-IMG2643.JPG</td>\n",
       "      <td>t045</td>\n",
       "      <td>[base photos/photos terrains/Ladakh Upper/Nyar...</td>\n",
       "      <td>[[t045, Temple Ruin 1, Temple Ruin, 34.039394,...</td>\n",
       "      <td>This is a picture of a heritage site in Ladakh...</td>\n",
       "    </tr>\n",
       "    <tr>\n",
       "      <th>1</th>\n",
       "      <td>QD-2009-IMG2644.JPG</td>\n",
       "      <td>t045</td>\n",
       "      <td>[base photos/photos terrains/Ladakh Upper/Nyar...</td>\n",
       "      <td>[[t045, Temple Ruin 1, Temple Ruin, 34.039394,...</td>\n",
       "      <td>This is a picture of a heritage site in Ladakh...</td>\n",
       "    </tr>\n",
       "    <tr>\n",
       "      <th>2</th>\n",
       "      <td>QD-2009-IMG2645.JPG</td>\n",
       "      <td>t045</td>\n",
       "      <td>[base photos/photos terrains/Ladakh Upper/Nyar...</td>\n",
       "      <td>[[t045, Temple Ruin 1, Temple Ruin, 34.039394,...</td>\n",
       "      <td>This is a picture of a heritage site in Ladakh...</td>\n",
       "    </tr>\n",
       "    <tr>\n",
       "      <th>3</th>\n",
       "      <td>QD-2009-IMG2646.JPG</td>\n",
       "      <td>t045</td>\n",
       "      <td>[base photos/photos terrains/Ladakh Upper/Nyar...</td>\n",
       "      <td>[[t045, Temple Ruin 1, Temple Ruin, 34.039394,...</td>\n",
       "      <td>This is a picture of a heritage site in Ladakh...</td>\n",
       "    </tr>\n",
       "    <tr>\n",
       "      <th>4</th>\n",
       "      <td>QD-2009-IMG2647.JPG</td>\n",
       "      <td>t045</td>\n",
       "      <td>[base photos/photos terrains/Ladakh Upper/Nyar...</td>\n",
       "      <td>[[t045, Temple Ruin 1, Temple Ruin, 34.039394,...</td>\n",
       "      <td>This is a picture of a heritage site in Ladakh...</td>\n",
       "    </tr>\n",
       "    <tr>\n",
       "      <th>...</th>\n",
       "      <td>...</td>\n",
       "      <td>...</td>\n",
       "      <td>...</td>\n",
       "      <td>...</td>\n",
       "      <td>...</td>\n",
       "    </tr>\n",
       "    <tr>\n",
       "      <th>337</th>\n",
       "      <td>QD-2019-DSC123430.JPG</td>\n",
       "      <td>t047</td>\n",
       "      <td>[base photos/photos terrains/Ladakh Upper/Nyar...</td>\n",
       "      <td>[[t047, Temple Ruin 3, Temple Ruin, 34.038895,...</td>\n",
       "      <td>This is a picture of a heritage site in Ladakh...</td>\n",
       "    </tr>\n",
       "    <tr>\n",
       "      <th>338</th>\n",
       "      <td>QD-2019-DSC123431.JPG</td>\n",
       "      <td>t045+t046</td>\n",
       "      <td>[base photos/photos terrains/Ladakh Upper/Nyar...</td>\n",
       "      <td>[[t045, Temple Ruin 1, Temple Ruin, 34.039394,...</td>\n",
       "      <td>This is a picture of 2 heritage sites in Ladak...</td>\n",
       "    </tr>\n",
       "    <tr>\n",
       "      <th>339</th>\n",
       "      <td>QD-2019-DSC123432.JPG</td>\n",
       "      <td>t045+t046+t047+t048+t049</td>\n",
       "      <td>[base photos/photos terrains/Ladakh Upper/Nyar...</td>\n",
       "      <td>[[t045, Temple Ruin 1, Temple Ruin, 34.039394,...</td>\n",
       "      <td>This is a picture of 5 heritage sites in Ladak...</td>\n",
       "    </tr>\n",
       "    <tr>\n",
       "      <th>340</th>\n",
       "      <td>QD-2019-DSC123433.JPG</td>\n",
       "      <td>t045+t046+t047+t048+t049</td>\n",
       "      <td>[base photos/photos terrains/Ladakh Upper/Nyar...</td>\n",
       "      <td>[[t045, Temple Ruin 1, Temple Ruin, 34.039394,...</td>\n",
       "      <td>This is a picture of 5 heritage sites in Ladak...</td>\n",
       "    </tr>\n",
       "    <tr>\n",
       "      <th>341</th>\n",
       "      <td>QD-2019-DSC123434.JPG</td>\n",
       "      <td>t045+t046+t047+t048+t049</td>\n",
       "      <td>[base photos/photos terrains/Ladakh Upper/Nyar...</td>\n",
       "      <td>[[t045, Temple Ruin 1, Temple Ruin, 34.039394,...</td>\n",
       "      <td>This is a picture of 5 heritage sites in Ladak...</td>\n",
       "    </tr>\n",
       "  </tbody>\n",
       "</table>\n",
       "<p>342 rows × 5 columns</p>\n",
       "</div>"
      ],
      "text/plain": [
       "                photo_name               code_folder  \\\n",
       "0      QD-2009-IMG2643.JPG                      t045   \n",
       "1      QD-2009-IMG2644.JPG                      t045   \n",
       "2      QD-2009-IMG2645.JPG                      t045   \n",
       "3      QD-2009-IMG2646.JPG                      t045   \n",
       "4      QD-2009-IMG2647.JPG                      t045   \n",
       "..                     ...                       ...   \n",
       "337  QD-2019-DSC123430.JPG                      t047   \n",
       "338  QD-2019-DSC123431.JPG                 t045+t046   \n",
       "339  QD-2019-DSC123432.JPG  t045+t046+t047+t048+t049   \n",
       "340  QD-2019-DSC123433.JPG  t045+t046+t047+t048+t049   \n",
       "341  QD-2019-DSC123434.JPG  t045+t046+t047+t048+t049   \n",
       "\n",
       "                                           path_folder  \\\n",
       "0    [base photos/photos terrains/Ladakh Upper/Nyar...   \n",
       "1    [base photos/photos terrains/Ladakh Upper/Nyar...   \n",
       "2    [base photos/photos terrains/Ladakh Upper/Nyar...   \n",
       "3    [base photos/photos terrains/Ladakh Upper/Nyar...   \n",
       "4    [base photos/photos terrains/Ladakh Upper/Nyar...   \n",
       "..                                                 ...   \n",
       "337  [base photos/photos terrains/Ladakh Upper/Nyar...   \n",
       "338  [base photos/photos terrains/Ladakh Upper/Nyar...   \n",
       "339  [base photos/photos terrains/Ladakh Upper/Nyar...   \n",
       "340  [base photos/photos terrains/Ladakh Upper/Nyar...   \n",
       "341  [base photos/photos terrains/Ladakh Upper/Nyar...   \n",
       "\n",
       "                                              metadata  \\\n",
       "0    [[t045, Temple Ruin 1, Temple Ruin, 34.039394,...   \n",
       "1    [[t045, Temple Ruin 1, Temple Ruin, 34.039394,...   \n",
       "2    [[t045, Temple Ruin 1, Temple Ruin, 34.039394,...   \n",
       "3    [[t045, Temple Ruin 1, Temple Ruin, 34.039394,...   \n",
       "4    [[t045, Temple Ruin 1, Temple Ruin, 34.039394,...   \n",
       "..                                                 ...   \n",
       "337  [[t047, Temple Ruin 3, Temple Ruin, 34.038895,...   \n",
       "338  [[t045, Temple Ruin 1, Temple Ruin, 34.039394,...   \n",
       "339  [[t045, Temple Ruin 1, Temple Ruin, 34.039394,...   \n",
       "340  [[t045, Temple Ruin 1, Temple Ruin, 34.039394,...   \n",
       "341  [[t045, Temple Ruin 1, Temple Ruin, 34.039394,...   \n",
       "\n",
       "                                              sentence  \n",
       "0    This is a picture of a heritage site in Ladakh...  \n",
       "1    This is a picture of a heritage site in Ladakh...  \n",
       "2    This is a picture of a heritage site in Ladakh...  \n",
       "3    This is a picture of a heritage site in Ladakh...  \n",
       "4    This is a picture of a heritage site in Ladakh...  \n",
       "..                                                 ...  \n",
       "337  This is a picture of a heritage site in Ladakh...  \n",
       "338  This is a picture of 2 heritage sites in Ladak...  \n",
       "339  This is a picture of 5 heritage sites in Ladak...  \n",
       "340  This is a picture of 5 heritage sites in Ladak...  \n",
       "341  This is a picture of 5 heritage sites in Ladak...  \n",
       "\n",
       "[342 rows x 5 columns]"
      ]
     },
     "execution_count": 24,
     "metadata": {},
     "output_type": "execute_result"
    }
   ],
   "source": [
    "#photos_info = pd.read_csv('photos_info.csv', index_col=0)\n",
    "#photos_info['path_folder'] = photos_info['path_folder'].apply(lambda x: ast.literal_eval(x))\n",
    "#photos_info['metadata'] = photos_info['metadata'].apply(lambda x: ast.literal_eval(x))\n",
    "photos_info"
   ]
  },
  {
   "cell_type": "code",
   "execution_count": 25,
   "metadata": {},
   "outputs": [],
   "source": [
    "photos_info['Status'] = 'pending'"
   ]
  },
  {
   "cell_type": "code",
   "execution_count": 26,
   "metadata": {},
   "outputs": [],
   "source": [
    "photos_info['Title'] = photos_info['photo_name'].apply(lambda x: x.split('.')[0]) #.split('-')[-1])"
   ]
  },
  {
   "cell_type": "code",
   "execution_count": 27,
   "metadata": {},
   "outputs": [],
   "source": [
    "photos_info['Path'] = photos_info['path_folder'].apply(lambda x: x[0]) + '/' + photos_info['photo_name']"
   ]
  },
  {
   "cell_type": "code",
   "execution_count": 28,
   "metadata": {},
   "outputs": [],
   "source": [
    "photos_info['Description'] = photos_info['sentence']"
   ]
  },
  {
   "cell_type": "code",
   "execution_count": 29,
   "metadata": {},
   "outputs": [],
   "source": [
    "photos_info['Creator'] = photos_info['photo_name'].apply(lambda x: dict_authors[x[0:2]])"
   ]
  },
  {
   "cell_type": "code",
   "execution_count": 30,
   "metadata": {},
   "outputs": [],
   "source": [
    "photos_info['Year'] = photos_info['photo_name'].apply(lambda x: x.split('.')[0].split('-')[1])"
   ]
  },
  {
   "cell_type": "code",
   "execution_count": 31,
   "metadata": {},
   "outputs": [],
   "source": [
    "photos_info['Type'] = 'Image' #'http://purl.org/coar/resource_type/c_c513'"
   ]
  },
  {
   "cell_type": "code",
   "execution_count": 32,
   "metadata": {},
   "outputs": [],
   "source": [
    "photos_info['License'] = 'CC-BY-NC-4.0'"
   ]
  },
  {
   "cell_type": "code",
   "execution_count": 33,
   "metadata": {},
   "outputs": [],
   "source": [
    "def extract_keywords(row):\n",
    "\n",
    "    try:\n",
    "    \n",
    "        list_keywords = [' '.join(list(reversed(row['Creator'].split(',')[0:2]))), # creator\n",
    "        row.metadata[0][6], # Region\n",
    "        row.metadata[0][5], # Location\n",
    "        row.metadata[0][2]  # Type\n",
    "                        ]\n",
    "\n",
    "        code_type = list(list(zip(*row.metadata))[0])\n",
    "        \n",
    "        return list_keywords + code_type\n",
    "    \n",
    "    except Exception as e:\n",
    "        print(\"Error for photo: {} / type: {} / metadata: {} // Error: {}\".format(row.photo_name,\n",
    "                                                                                  row.code_folder,\n",
    "                                                                                  row.metadata,\n",
    "                                                                                  e)\n",
    "             )\n",
    "\n",
    "        return ['']*4"
   ]
  },
  {
   "cell_type": "code",
   "execution_count": null,
   "metadata": {},
   "outputs": [],
   "source": []
  },
  {
   "cell_type": "code",
   "execution_count": 34,
   "metadata": {},
   "outputs": [
    {
     "data": {
      "text/html": [
       "<div>\n",
       "<style scoped>\n",
       "    .dataframe tbody tr th:only-of-type {\n",
       "        vertical-align: middle;\n",
       "    }\n",
       "\n",
       "    .dataframe tbody tr th {\n",
       "        vertical-align: top;\n",
       "    }\n",
       "\n",
       "    .dataframe thead th {\n",
       "        text-align: right;\n",
       "    }\n",
       "</style>\n",
       "<table border=\"1\" class=\"dataframe\">\n",
       "  <thead>\n",
       "    <tr style=\"text-align: right;\">\n",
       "      <th></th>\n",
       "      <th>photo_name</th>\n",
       "      <th>code_folder</th>\n",
       "      <th>path_folder</th>\n",
       "      <th>metadata</th>\n",
       "      <th>sentence</th>\n",
       "      <th>Status</th>\n",
       "      <th>Title</th>\n",
       "      <th>Path</th>\n",
       "      <th>Description</th>\n",
       "      <th>Creator</th>\n",
       "      <th>Year</th>\n",
       "      <th>Type</th>\n",
       "      <th>License</th>\n",
       "    </tr>\n",
       "  </thead>\n",
       "  <tbody>\n",
       "  </tbody>\n",
       "</table>\n",
       "</div>"
      ],
      "text/plain": [
       "Empty DataFrame\n",
       "Columns: [photo_name, code_folder, path_folder, metadata, sentence, Status, Title, Path, Description, Creator, Year, Type, License]\n",
       "Index: []"
      ]
     },
     "execution_count": 34,
     "metadata": {},
     "output_type": "execute_result"
    }
   ],
   "source": [
    "photos_info[photos_info.apply(lambda row: extract_keywords(row),axis=1).isna()]"
   ]
  },
  {
   "cell_type": "code",
   "execution_count": 35,
   "metadata": {},
   "outputs": [],
   "source": [
    "photos_info['Keywords'] = photos_info.apply(lambda row: extract_keywords(row),axis=1)"
   ]
  },
  {
   "cell_type": "code",
   "execution_count": 36,
   "metadata": {},
   "outputs": [],
   "source": [
    "photos_info['Collections'] = photos_info['Keywords'].apply(lambda x: ','.join(x[3:]))\n",
    "photos_info['Keywords'] = photos_info['Keywords'].apply(lambda x: ','.join(x))"
   ]
  },
  {
   "cell_type": "code",
   "execution_count": null,
   "metadata": {},
   "outputs": [],
   "source": [
    "photos_info['Date scanned'] = str(datetime.now())[0:10]"
   ]
  },
  {
   "cell_type": "code",
   "execution_count": 106,
   "metadata": {},
   "outputs": [
    {
     "data": {
      "text/html": [
       "<div>\n",
       "<style scoped>\n",
       "    .dataframe tbody tr th:only-of-type {\n",
       "        vertical-align: middle;\n",
       "    }\n",
       "\n",
       "    .dataframe tbody tr th {\n",
       "        vertical-align: top;\n",
       "    }\n",
       "\n",
       "    .dataframe thead th {\n",
       "        text-align: right;\n",
       "    }\n",
       "</style>\n",
       "<table border=\"1\" class=\"dataframe\">\n",
       "  <thead>\n",
       "    <tr style=\"text-align: right;\">\n",
       "      <th></th>\n",
       "      <th>Status</th>\n",
       "      <th>Title</th>\n",
       "      <th>Path</th>\n",
       "      <th>Description</th>\n",
       "      <th>Creator</th>\n",
       "      <th>Year</th>\n",
       "      <th>Keywords</th>\n",
       "      <th>Type</th>\n",
       "      <th>License</th>\n",
       "      <th>Collections</th>\n",
       "    </tr>\n",
       "  </thead>\n",
       "  <tbody>\n",
       "    <tr>\n",
       "      <th>0</th>\n",
       "      <td>pending</td>\n",
       "      <td>QD-2009-IMG2643</td>\n",
       "      <td>base photos/photos terrains/Ladakh Upper/Nyarm...</td>\n",
       "      <td>This is a picture of a heritage site in Ladakh...</td>\n",
       "      <td>Devers,Quentin,0000-0001-8469-0165</td>\n",
       "      <td>2009</td>\n",
       "      <td>Quentin Devers,Upper Ladakh,Nyarma,Temple Ruin...</td>\n",
       "      <td>Image</td>\n",
       "      <td>CC-BY-NC-4.0</td>\n",
       "      <td>Temple Ruin,t045</td>\n",
       "    </tr>\n",
       "    <tr>\n",
       "      <th>1</th>\n",
       "      <td>pending</td>\n",
       "      <td>QD-2009-IMG2644</td>\n",
       "      <td>base photos/photos terrains/Ladakh Upper/Nyarm...</td>\n",
       "      <td>This is a picture of a heritage site in Ladakh...</td>\n",
       "      <td>Devers,Quentin,0000-0001-8469-0165</td>\n",
       "      <td>2009</td>\n",
       "      <td>Quentin Devers,Upper Ladakh,Nyarma,Temple Ruin...</td>\n",
       "      <td>Image</td>\n",
       "      <td>CC-BY-NC-4.0</td>\n",
       "      <td>Temple Ruin,t045</td>\n",
       "    </tr>\n",
       "    <tr>\n",
       "      <th>2</th>\n",
       "      <td>pending</td>\n",
       "      <td>QD-2009-IMG2645</td>\n",
       "      <td>base photos/photos terrains/Ladakh Upper/Nyarm...</td>\n",
       "      <td>This is a picture of a heritage site in Ladakh...</td>\n",
       "      <td>Devers,Quentin,0000-0001-8469-0165</td>\n",
       "      <td>2009</td>\n",
       "      <td>Quentin Devers,Upper Ladakh,Nyarma,Temple Ruin...</td>\n",
       "      <td>Image</td>\n",
       "      <td>CC-BY-NC-4.0</td>\n",
       "      <td>Temple Ruin,t045</td>\n",
       "    </tr>\n",
       "    <tr>\n",
       "      <th>3</th>\n",
       "      <td>pending</td>\n",
       "      <td>QD-2009-IMG2646</td>\n",
       "      <td>base photos/photos terrains/Ladakh Upper/Nyarm...</td>\n",
       "      <td>This is a picture of a heritage site in Ladakh...</td>\n",
       "      <td>Devers,Quentin,0000-0001-8469-0165</td>\n",
       "      <td>2009</td>\n",
       "      <td>Quentin Devers,Upper Ladakh,Nyarma,Temple Ruin...</td>\n",
       "      <td>Image</td>\n",
       "      <td>CC-BY-NC-4.0</td>\n",
       "      <td>Temple Ruin,t045</td>\n",
       "    </tr>\n",
       "    <tr>\n",
       "      <th>4</th>\n",
       "      <td>pending</td>\n",
       "      <td>QD-2009-IMG2647</td>\n",
       "      <td>base photos/photos terrains/Ladakh Upper/Nyarm...</td>\n",
       "      <td>This is a picture of a heritage site in Ladakh...</td>\n",
       "      <td>Devers,Quentin,0000-0001-8469-0165</td>\n",
       "      <td>2009</td>\n",
       "      <td>Quentin Devers,Upper Ladakh,Nyarma,Temple Ruin...</td>\n",
       "      <td>Image</td>\n",
       "      <td>CC-BY-NC-4.0</td>\n",
       "      <td>Temple Ruin,t045</td>\n",
       "    </tr>\n",
       "    <tr>\n",
       "      <th>...</th>\n",
       "      <td>...</td>\n",
       "      <td>...</td>\n",
       "      <td>...</td>\n",
       "      <td>...</td>\n",
       "      <td>...</td>\n",
       "      <td>...</td>\n",
       "      <td>...</td>\n",
       "      <td>...</td>\n",
       "      <td>...</td>\n",
       "      <td>...</td>\n",
       "    </tr>\n",
       "    <tr>\n",
       "      <th>337</th>\n",
       "      <td>pending</td>\n",
       "      <td>QD-2019-DSC123430</td>\n",
       "      <td>base photos/photos terrains/Ladakh Upper/Nyarm...</td>\n",
       "      <td>This is a picture of a heritage site in Ladakh...</td>\n",
       "      <td>Devers,Quentin,0000-0001-8469-0165</td>\n",
       "      <td>2019</td>\n",
       "      <td>Quentin Devers,Upper Ladakh,Nyarma,Temple Ruin...</td>\n",
       "      <td>Image</td>\n",
       "      <td>CC-BY-NC-4.0</td>\n",
       "      <td>Temple Ruin,t047</td>\n",
       "    </tr>\n",
       "    <tr>\n",
       "      <th>338</th>\n",
       "      <td>pending</td>\n",
       "      <td>QD-2019-DSC123431</td>\n",
       "      <td>base photos/photos terrains/Ladakh Upper/Nyarm...</td>\n",
       "      <td>This is a picture of 2 heritage sites in Ladak...</td>\n",
       "      <td>Devers,Quentin,0000-0001-8469-0165</td>\n",
       "      <td>2019</td>\n",
       "      <td>Quentin Devers,Upper Ladakh,Nyarma,Temple Ruin...</td>\n",
       "      <td>Image</td>\n",
       "      <td>CC-BY-NC-4.0</td>\n",
       "      <td>Temple Ruin,t045,t046</td>\n",
       "    </tr>\n",
       "    <tr>\n",
       "      <th>339</th>\n",
       "      <td>pending</td>\n",
       "      <td>QD-2019-DSC123432</td>\n",
       "      <td>base photos/photos terrains/Ladakh Upper/Nyarm...</td>\n",
       "      <td>This is a picture of 5 heritage sites in Ladak...</td>\n",
       "      <td>Devers,Quentin,0000-0001-8469-0165</td>\n",
       "      <td>2019</td>\n",
       "      <td>Quentin Devers,Upper Ladakh,Nyarma,Temple Ruin...</td>\n",
       "      <td>Image</td>\n",
       "      <td>CC-BY-NC-4.0</td>\n",
       "      <td>Temple Ruin,t045,t046,t047,t048,t049</td>\n",
       "    </tr>\n",
       "    <tr>\n",
       "      <th>340</th>\n",
       "      <td>pending</td>\n",
       "      <td>QD-2019-DSC123433</td>\n",
       "      <td>base photos/photos terrains/Ladakh Upper/Nyarm...</td>\n",
       "      <td>This is a picture of 5 heritage sites in Ladak...</td>\n",
       "      <td>Devers,Quentin,0000-0001-8469-0165</td>\n",
       "      <td>2019</td>\n",
       "      <td>Quentin Devers,Upper Ladakh,Nyarma,Temple Ruin...</td>\n",
       "      <td>Image</td>\n",
       "      <td>CC-BY-NC-4.0</td>\n",
       "      <td>Temple Ruin,t045,t046,t047,t048,t049</td>\n",
       "    </tr>\n",
       "    <tr>\n",
       "      <th>341</th>\n",
       "      <td>pending</td>\n",
       "      <td>QD-2019-DSC123434</td>\n",
       "      <td>base photos/photos terrains/Ladakh Upper/Nyarm...</td>\n",
       "      <td>This is a picture of 5 heritage sites in Ladak...</td>\n",
       "      <td>Devers,Quentin,0000-0001-8469-0165</td>\n",
       "      <td>2019</td>\n",
       "      <td>Quentin Devers,Upper Ladakh,Nyarma,Temple Ruin...</td>\n",
       "      <td>Image</td>\n",
       "      <td>CC-BY-NC-4.0</td>\n",
       "      <td>Temple Ruin,t045,t046,t047,t048,t049</td>\n",
       "    </tr>\n",
       "  </tbody>\n",
       "</table>\n",
       "<p>342 rows × 10 columns</p>\n",
       "</div>"
      ],
      "text/plain": [
       "      Status              Title  \\\n",
       "0    pending    QD-2009-IMG2643   \n",
       "1    pending    QD-2009-IMG2644   \n",
       "2    pending    QD-2009-IMG2645   \n",
       "3    pending    QD-2009-IMG2646   \n",
       "4    pending    QD-2009-IMG2647   \n",
       "..       ...                ...   \n",
       "337  pending  QD-2019-DSC123430   \n",
       "338  pending  QD-2019-DSC123431   \n",
       "339  pending  QD-2019-DSC123432   \n",
       "340  pending  QD-2019-DSC123433   \n",
       "341  pending  QD-2019-DSC123434   \n",
       "\n",
       "                                                  Path  \\\n",
       "0    base photos/photos terrains/Ladakh Upper/Nyarm...   \n",
       "1    base photos/photos terrains/Ladakh Upper/Nyarm...   \n",
       "2    base photos/photos terrains/Ladakh Upper/Nyarm...   \n",
       "3    base photos/photos terrains/Ladakh Upper/Nyarm...   \n",
       "4    base photos/photos terrains/Ladakh Upper/Nyarm...   \n",
       "..                                                 ...   \n",
       "337  base photos/photos terrains/Ladakh Upper/Nyarm...   \n",
       "338  base photos/photos terrains/Ladakh Upper/Nyarm...   \n",
       "339  base photos/photos terrains/Ladakh Upper/Nyarm...   \n",
       "340  base photos/photos terrains/Ladakh Upper/Nyarm...   \n",
       "341  base photos/photos terrains/Ladakh Upper/Nyarm...   \n",
       "\n",
       "                                           Description  \\\n",
       "0    This is a picture of a heritage site in Ladakh...   \n",
       "1    This is a picture of a heritage site in Ladakh...   \n",
       "2    This is a picture of a heritage site in Ladakh...   \n",
       "3    This is a picture of a heritage site in Ladakh...   \n",
       "4    This is a picture of a heritage site in Ladakh...   \n",
       "..                                                 ...   \n",
       "337  This is a picture of a heritage site in Ladakh...   \n",
       "338  This is a picture of 2 heritage sites in Ladak...   \n",
       "339  This is a picture of 5 heritage sites in Ladak...   \n",
       "340  This is a picture of 5 heritage sites in Ladak...   \n",
       "341  This is a picture of 5 heritage sites in Ladak...   \n",
       "\n",
       "                                Creator  Year  \\\n",
       "0    Devers,Quentin,0000-0001-8469-0165  2009   \n",
       "1    Devers,Quentin,0000-0001-8469-0165  2009   \n",
       "2    Devers,Quentin,0000-0001-8469-0165  2009   \n",
       "3    Devers,Quentin,0000-0001-8469-0165  2009   \n",
       "4    Devers,Quentin,0000-0001-8469-0165  2009   \n",
       "..                                  ...   ...   \n",
       "337  Devers,Quentin,0000-0001-8469-0165  2019   \n",
       "338  Devers,Quentin,0000-0001-8469-0165  2019   \n",
       "339  Devers,Quentin,0000-0001-8469-0165  2019   \n",
       "340  Devers,Quentin,0000-0001-8469-0165  2019   \n",
       "341  Devers,Quentin,0000-0001-8469-0165  2019   \n",
       "\n",
       "                                              Keywords   Type       License  \\\n",
       "0    Quentin Devers,Upper Ladakh,Nyarma,Temple Ruin...  Image  CC-BY-NC-4.0   \n",
       "1    Quentin Devers,Upper Ladakh,Nyarma,Temple Ruin...  Image  CC-BY-NC-4.0   \n",
       "2    Quentin Devers,Upper Ladakh,Nyarma,Temple Ruin...  Image  CC-BY-NC-4.0   \n",
       "3    Quentin Devers,Upper Ladakh,Nyarma,Temple Ruin...  Image  CC-BY-NC-4.0   \n",
       "4    Quentin Devers,Upper Ladakh,Nyarma,Temple Ruin...  Image  CC-BY-NC-4.0   \n",
       "..                                                 ...    ...           ...   \n",
       "337  Quentin Devers,Upper Ladakh,Nyarma,Temple Ruin...  Image  CC-BY-NC-4.0   \n",
       "338  Quentin Devers,Upper Ladakh,Nyarma,Temple Ruin...  Image  CC-BY-NC-4.0   \n",
       "339  Quentin Devers,Upper Ladakh,Nyarma,Temple Ruin...  Image  CC-BY-NC-4.0   \n",
       "340  Quentin Devers,Upper Ladakh,Nyarma,Temple Ruin...  Image  CC-BY-NC-4.0   \n",
       "341  Quentin Devers,Upper Ladakh,Nyarma,Temple Ruin...  Image  CC-BY-NC-4.0   \n",
       "\n",
       "                              Collections  \n",
       "0                        Temple Ruin,t045  \n",
       "1                        Temple Ruin,t045  \n",
       "2                        Temple Ruin,t045  \n",
       "3                        Temple Ruin,t045  \n",
       "4                        Temple Ruin,t045  \n",
       "..                                    ...  \n",
       "337                      Temple Ruin,t047  \n",
       "338                 Temple Ruin,t045,t046  \n",
       "339  Temple Ruin,t045,t046,t047,t048,t049  \n",
       "340  Temple Ruin,t045,t046,t047,t048,t049  \n",
       "341  Temple Ruin,t045,t046,t047,t048,t049  \n",
       "\n",
       "[342 rows x 10 columns]"
      ]
     },
     "execution_count": 106,
     "metadata": {},
     "output_type": "execute_result"
    }
   ],
   "source": [
    "photos_info = photos_info.filter(['Status', 'Title', 'Path',\n",
    "                                  'Description', 'Creator', 'Year',\n",
    "                                  'Keywords', 'Type', 'License',\n",
    "                                  'Collections', 'Date scanned'])\n",
    "photos_info"
   ]
  },
  {
   "cell_type": "code",
   "execution_count": 38,
   "metadata": {},
   "outputs": [],
   "source": [
    "#photos_info.to_csv('photos_info_nkl.csv', index=False)"
   ]
  },
  {
   "cell_type": "markdown",
   "metadata": {},
   "source": [
    "## 5. Add columns to follow the upload process"
   ]
  },
  {
   "cell_type": "code",
   "execution_count": 67,
   "metadata": {},
   "outputs": [],
   "source": [
    "photos_info['Uploaded'] = 0"
   ]
  },
  {
   "cell_type": "code",
   "execution_count": 71,
   "metadata": {},
   "outputs": [],
   "source": [
    "photos_info['Upload date'] = 0"
   ]
  },
  {
   "cell_type": "code",
   "execution_count": 72,
   "metadata": {},
   "outputs": [],
   "source": [
    "photos_info['Link'] = ''"
   ]
  },
  {
   "cell_type": "markdown",
   "metadata": {},
   "source": [
    "## 6. Check if existing file"
   ]
  },
  {
   "cell_type": "code",
   "execution_count": 133,
   "metadata": {},
   "outputs": [
    {
     "name": "stdout",
     "output_type": "stream",
     "text": [
      "an existing file has been found, containing 342 photos\n"
     ]
    }
   ],
   "source": [
    "# find an existing version of photos_info_nkl.csv\n",
    "\n",
    "name_old_file = 'photos_info_nkl.csv'\n",
    "\n",
    "try:\n",
    "    photos_info_old = pd.read_csv(name_old_file)\n",
    "    print(\"an existing file has been found, containing {} photos\".format(len(photos_info_old)))\n",
    "except:\n",
    "    photos_info_old = pd.DataFrame()\n",
    "    print(\"/!\\ no existing file named '{}' has been found!\".format(name_old_file))\n",
    "    print(\"If you already uploaded photos, make sure the file hasn't been moved or renamed\")"
   ]
  },
  {
   "cell_type": "code",
   "execution_count": 134,
   "metadata": {},
   "outputs": [
    {
     "name": "stdout",
     "output_type": "stream",
     "text": [
      "0 new photos have been found\n"
     ]
    }
   ],
   "source": [
    "# isolate new photos\n",
    "\n",
    "if len(photos_info_old) > 0:\n",
    "    merged = pd.merge(photos_info_old[\"Title\"], photos_info, on='Title', how='outer', indicator=True)\n",
    "    photos_info_new = merged[merged._merge == 'left_only']\n",
    "    \n",
    "else:\n",
    "    photos_info_new = photos_info\n",
    "\n",
    "print(\"{} new photos have been found\".format(len(photos_info_new)))"
   ]
  },
  {
   "cell_type": "code",
   "execution_count": 135,
   "metadata": {},
   "outputs": [
    {
     "name": "stdout",
     "output_type": "stream",
     "text": [
      "The new file contains 342 new photos, including 342 existing photos and 0 new photos\n"
     ]
    }
   ],
   "source": [
    "# append new photos \n",
    "photos_info_updated = photos_info_old.append(photos_info_new)\n",
    "\n",
    "print(\"The new file contains {} new photos, including {} existing photos and {} new photos\"\\\n",
    "      .format(photos_info_updated.shape[0],\n",
    "              photos_info_old.shape[0],\n",
    "              photos_info_new.shape[0]))"
   ]
  },
  {
   "cell_type": "code",
   "execution_count": 138,
   "metadata": {},
   "outputs": [],
   "source": [
    "photos_info_updated.to_csv('photos_info_nkl.csv', index=False)"
   ]
  },
  {
   "cell_type": "code",
   "execution_count": null,
   "metadata": {},
   "outputs": [],
   "source": []
  },
  {
   "cell_type": "code",
   "execution_count": null,
   "metadata": {},
   "outputs": [],
   "source": []
  },
  {
   "cell_type": "code",
   "execution_count": null,
   "metadata": {},
   "outputs": [],
   "source": []
  }
 ],
 "metadata": {
  "kernelspec": {
   "display_name": "Python 3",
   "language": "python",
   "name": "python3"
  },
  "language_info": {
   "codemirror_mode": {
    "name": "ipython",
    "version": 3
   },
   "file_extension": ".py",
   "mimetype": "text/x-python",
   "name": "python",
   "nbconvert_exporter": "python",
   "pygments_lexer": "ipython3",
   "version": "3.8.6"
  }
 },
 "nbformat": 4,
 "nbformat_minor": 4
}
